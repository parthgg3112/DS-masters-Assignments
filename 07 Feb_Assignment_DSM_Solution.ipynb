{
 "cells": [
  {
   "cell_type": "markdown",
   "id": "34d75e8c",
   "metadata": {},
   "source": [
    "## Question 1"
   ]
  },
  {
   "cell_type": "markdown",
   "id": "7a644250",
   "metadata": {},
   "source": [
    "Q1. You are writing code for a company. The requirement of the company is that you create a python\n",
    "function that will check whether the password entered by the user is correct or not. The function should\n",
    "take the password as input and return the string “Valid Password” if the entered password follows the\n",
    "below-given password guidelines else it should return “Invalid Password”.\n",
    "\n",
    "\n",
    "Note: 1. The Password should contain at least two uppercase letters and at least two lowercase letters.\n",
    "\n",
    "2. The Password should contain at least a number and three special characters.\n",
    "\n",
    "3. The length of the password should be 10 characters long."
   ]
  },
  {
   "cell_type": "code",
   "execution_count": 23,
   "id": "4bae0780",
   "metadata": {},
   "outputs": [
    {
     "name": "stdout",
     "output_type": "stream",
     "text": [
      "HudHud@123%#\n"
     ]
    }
   ],
   "source": [
    "pw = input()"
   ]
  },
  {
   "cell_type": "code",
   "execution_count": 24,
   "id": "b4ef86df",
   "metadata": {},
   "outputs": [
    {
     "name": "stdout",
     "output_type": "stream",
     "text": [
      "Valid Password\n"
     ]
    }
   ],
   "source": [
    "c_up = 0\n",
    "c_low = 0\n",
    "c_no = 0\n",
    "c_sp = 0\n",
    "for char in pw:\n",
    "    if(char.isupper()):\n",
    "        c_up = c_up + 1\n",
    "    elif(char.islower()):\n",
    "        c_low = c_low + 1\n",
    "    elif(char.isdigit()):\n",
    "        c_no = c_no + 1\n",
    "    else:\n",
    "        c_sp = c_sp + 1\n",
    "        \n",
    "if(c_up>=2 and c_low>=2 and c_no>=1 and c_sp==3 and len(pw)>10):\n",
    "    print(\"Valid Password\")\n",
    "else:\n",
    "    print(\"Invalid Password\")\n",
    "    "
   ]
  },
  {
   "cell_type": "markdown",
   "id": "44946703",
   "metadata": {},
   "source": [
    "## Question 2"
   ]
  },
  {
   "cell_type": "markdown",
   "id": "b0211a5f",
   "metadata": {},
   "source": [
    "Q2. Solve the below-given questions using at least one of the following: \n",
    "\n",
    "1. Lambda function\n",
    "2. Filter function\n",
    "3. Zap function\n",
    "4. List Comprehension\n",
    "\n",
    "\n",
    "1 Check if the string starts with a particular letter\n",
    "\n",
    "2 Check if the string is numeric\n",
    "\n",
    "3 Sort a list of tuples having fruit names and their quantity. [(\"mango\",99),(\"orange\",80), (\"grapes\", 1000)]\n",
    "\n",
    "5 Find the squares of numbers from 1 to 10\n",
    "\n",
    "6 Find the cube root of numbers from 1 to 10\n",
    "\n",
    "7 Check if a given number is even\n",
    "\n",
    "8 Filter odd numbers from the given list.\n",
    "\n",
    "\n",
    "[1,2,3,4,5,6,7,8,9,10]\n",
    "Sort a list of integers into positive and negative integers lists.\n",
    "\n",
    " [1,2,3,4,5,6,-1,-2,-3,-4,-5,0]"
   ]
  },
  {
   "cell_type": "code",
   "execution_count": 31,
   "id": "671ef157",
   "metadata": {},
   "outputs": [
    {
     "data": {
      "text/plain": [
       "True"
      ]
     },
     "execution_count": 31,
     "metadata": {},
     "output_type": "execute_result"
    }
   ],
   "source": [
    "f1 = lambda x : x.startswith('a')\n",
    "f1('apple')"
   ]
  },
  {
   "cell_type": "code",
   "execution_count": 33,
   "id": "c63a5aed",
   "metadata": {},
   "outputs": [
    {
     "data": {
      "text/plain": [
       "False"
      ]
     },
     "execution_count": 33,
     "metadata": {},
     "output_type": "execute_result"
    }
   ],
   "source": [
    "f2 = lambda x : x.isnumeric()\n",
    "f2('123a')"
   ]
  },
  {
   "cell_type": "code",
   "execution_count": 34,
   "id": "5783b11e",
   "metadata": {},
   "outputs": [],
   "source": [
    "l_of_t =  [(\"mango\",99),(\"orange\",80), (\"grapes\", 1000)]\n",
    "l_of_t.sort()"
   ]
  },
  {
   "cell_type": "code",
   "execution_count": 35,
   "id": "cb068dfe",
   "metadata": {},
   "outputs": [
    {
     "data": {
      "text/plain": [
       "[('grapes', 1000), ('mango', 99), ('orange', 80)]"
      ]
     },
     "execution_count": 35,
     "metadata": {},
     "output_type": "execute_result"
    }
   ],
   "source": [
    "l_of_t"
   ]
  },
  {
   "cell_type": "code",
   "execution_count": 40,
   "id": "887fa5fb",
   "metadata": {},
   "outputs": [
    {
     "data": {
      "text/plain": [
       "[1, 4, 9, 16, 25, 36, 49, 81, 100]"
      ]
     },
     "execution_count": 40,
     "metadata": {},
     "output_type": "execute_result"
    }
   ],
   "source": [
    "l = [1,2,3,4,5,6,7,9,10]\n",
    "sq = list(map(lambda x : x**2,l))\n",
    "sq"
   ]
  },
  {
   "cell_type": "code",
   "execution_count": 41,
   "id": "736f901c",
   "metadata": {},
   "outputs": [
    {
     "data": {
      "text/plain": [
       "[1, 8, 27, 64, 125, 216, 343, 729, 1000]"
      ]
     },
     "execution_count": 41,
     "metadata": {},
     "output_type": "execute_result"
    }
   ],
   "source": [
    "cu = list(map(lambda x : x**3,l))\n",
    "cu"
   ]
  },
  {
   "cell_type": "code",
   "execution_count": 49,
   "id": "91c45a1b",
   "metadata": {},
   "outputs": [
    {
     "data": {
      "text/plain": [
       "False"
      ]
     },
     "execution_count": 49,
     "metadata": {},
     "output_type": "execute_result"
    }
   ],
   "source": [
    "f4 = lambda x : x%2==0\n",
    "f4(45)"
   ]
  },
  {
   "cell_type": "code",
   "execution_count": 51,
   "id": "56e7d50f",
   "metadata": {},
   "outputs": [
    {
     "data": {
      "text/plain": [
       "[1, 3, 5, 7, 9]"
      ]
     },
     "execution_count": 51,
     "metadata": {},
     "output_type": "execute_result"
    }
   ],
   "source": [
    "odd = list(filter(lambda x:x%2==1,l))\n",
    "odd"
   ]
  },
  {
   "cell_type": "code",
   "execution_count": 53,
   "id": "89f73231",
   "metadata": {},
   "outputs": [
    {
     "name": "stdout",
     "output_type": "stream",
     "text": [
      "[1, 2, 3, 4, 5, 6]\n",
      "[-1, -2, -3, -4, -5]\n"
     ]
    }
   ],
   "source": [
    "mix = [1,2,3,4,5,6,-1,-2,-3,-4,-5,0]\n",
    "pos = list(filter(lambda x : x>0,mix))\n",
    "neg = list(filter(lambda x : x<0,mix))\n",
    "print(pos)\n",
    "print(neg)"
   ]
  },
  {
   "cell_type": "code",
   "execution_count": null,
   "id": "2b205943",
   "metadata": {},
   "outputs": [],
   "source": []
  }
 ],
 "metadata": {
  "kernelspec": {
   "display_name": "Python 3",
   "language": "python",
   "name": "python3"
  },
  "language_info": {
   "codemirror_mode": {
    "name": "ipython",
    "version": 3
   },
   "file_extension": ".py",
   "mimetype": "text/x-python",
   "name": "python",
   "nbconvert_exporter": "python",
   "pygments_lexer": "ipython3",
   "version": "3.8.8"
  }
 },
 "nbformat": 4,
 "nbformat_minor": 5
}
