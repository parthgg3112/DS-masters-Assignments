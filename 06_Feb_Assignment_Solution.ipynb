{
 "cells": [
  {
   "cell_type": "markdown",
   "id": "c584e5f8",
   "metadata": {},
   "source": [
    "## Question 1"
   ]
  },
  {
   "cell_type": "code",
   "execution_count": null,
   "id": "637ba642",
   "metadata": {},
   "outputs": [],
   "source": []
  },
  {
   "cell_type": "markdown",
   "id": "20b8192c",
   "metadata": {},
   "source": [
    "Q1. Create a function which will take a list as an argument and return the product of all the numbers\n",
    "after creating a flat list.\n",
    "\n",
    "Use the below-given list as an argument for your function.\n",
    "\n",
    "\n",
    "list1 = [1,2,3,4, [44,55,66, True], False, (34,56,78,89,34), {1,2,3,3,2,1}, {1:34, \"key2\": [55, 67, 78, 89], 4: (45,\n",
    "22, 61, 34)}, [56, 'data science'], 'Machine Learning']\n",
    "\n",
    "Note: you must extract numeric keys and values of the dictionary also.\n"
   ]
  },
  {
   "cell_type": "code",
   "execution_count": 3,
   "id": "3d279e9b",
   "metadata": {},
   "outputs": [],
   "source": [
    "list1 = [1,2,3,4, [44,55,66, True], False, (34,56,78,89,34), {1,2,3,3,2,1}, {1:34, \"key2\": [55, 67, 78, 89], 4: (45, 22, 61, 34)}, [56, 'data science'], 'Machine Learning']\n",
    "list2 = []\n",
    "\n",
    "def func(list1):\n",
    "    for x in list1:\n",
    "        if(type(x) == int):\n",
    "            list2.append(x)\n",
    "        if(type(x) == list):\n",
    "            for ele in x:\n",
    "                if(type(ele) == int):\n",
    "                    list2.append(ele)\n",
    "        if(type(x) == tuple):\n",
    "            for ele in x:\n",
    "                if(type(ele) == int):\n",
    "                    list2.append(ele)\n",
    "        if(type(x) == set):\n",
    "            for ele in x:\n",
    "                if(type(ele) == int):\n",
    "                    list2.append(ele)\n",
    "        if(type(x) == dict):\n",
    "            for key in x.keys():\n",
    "                if(type(key) == int):\n",
    "                    list2.append(key)\n",
    "            for val in x.values():\n",
    "                if(type(val) == int):\n",
    "                    list2.append(val)\n",
    "                if(type(val) == tuple):\n",
    "                    for ele in val:\n",
    "                        if(type(ele) == int):\n",
    "                            list2.append(ele)\n",
    "                if(type(val) == list):\n",
    "                    for ele in val:\n",
    "                        if(type(ele) == int):\n",
    "                            list2.append(ele)\n",
    "                if(type(val) == set):\n",
    "                    for ele in val:\n",
    "                        if(type(ele) == int):\n",
    "                            list2.append(ele)\n",
    "    return list2"
   ]
  },
  {
   "cell_type": "code",
   "execution_count": 4,
   "id": "9a64e685",
   "metadata": {},
   "outputs": [
    {
     "name": "stdout",
     "output_type": "stream",
     "text": [
      "[1, 2, 3, 4, 44, 55, 66, 34, 56, 78, 89, 34, 1, 2, 3, 1, 4, 34, 55, 67, 78, 89, 45, 22, 61, 34, 56]\n"
     ]
    }
   ],
   "source": [
    "print(func(list1))"
   ]
  },
  {
   "cell_type": "code",
   "execution_count": 10,
   "id": "c58bdc3e",
   "metadata": {},
   "outputs": [
    {
     "name": "stdout",
     "output_type": "stream",
     "text": [
      "4134711838987085478833841242112000\n"
     ]
    }
   ],
   "source": [
    "prod = 1\n",
    "for x in list2:\n",
    "    prod = prod * x\n",
    "print(prod)"
   ]
  },
  {
   "cell_type": "markdown",
   "id": "c1e41a16",
   "metadata": {},
   "source": [
    "## Question 2"
   ]
  },
  {
   "cell_type": "markdown",
   "id": "f6a553ad",
   "metadata": {},
   "source": [
    "Q2. Write a python program for encrypting a message sent to you by your friend. The logic of encryption\n",
    "should be such that, for a the output should be z. For b, the output should be y. For c, the output should\n",
    "be x respectively. Also, the whitespace should be replaced with a dollar sign. Keep the punctuation\n",
    "marks unchanged.\n",
    "\n",
    "\n",
    "Input Sentence: I want to become a Data Scientist.\n",
    "\n",
    "\n",
    "Encrypt the above input sentence using the program you just created.\n",
    "\n",
    "\n",
    "Note: Convert the given input sentence into lowercase before encrypting. The final output should be\n",
    "lowercase."
   ]
  },
  {
   "cell_type": "code",
   "execution_count": 15,
   "id": "bc0ea3d9",
   "metadata": {},
   "outputs": [
    {
     "name": "stdout",
     "output_type": "stream",
     "text": [
      " i want to become a data scientist.\n"
     ]
    }
   ],
   "source": [
    "s = \" I want to become a Data Scientist.\"\n",
    "s_low = s.lower()\n",
    "print(s_low)"
   ]
  },
  {
   "cell_type": "code",
   "execution_count": 34,
   "id": "ba75007d",
   "metadata": {},
   "outputs": [
    {
     "name": "stdout",
     "output_type": "stream",
     "text": [
      "$j$xbou$up$cfdpnf$b$ebub$tdjfoujtu\n"
     ]
    }
   ],
   "source": [
    "new_s = \"\"\n",
    "c = 0\n",
    "for x in s_low:\n",
    "    if x.isalpha():\n",
    "        x = chr(ord(x) + 1)\n",
    "        new_s = new_s + x\n",
    "    if(x == \" \"):\n",
    "        x = '$'\n",
    "        new_s = new_s + x\n",
    "print(new_s)"
   ]
  },
  {
   "cell_type": "code",
   "execution_count": null,
   "id": "3404717b",
   "metadata": {},
   "outputs": [],
   "source": []
  },
  {
   "cell_type": "code",
   "execution_count": null,
   "id": "73049372",
   "metadata": {},
   "outputs": [],
   "source": []
  }
 ],
 "metadata": {
  "kernelspec": {
   "display_name": "Python 3",
   "language": "python",
   "name": "python3"
  },
  "language_info": {
   "codemirror_mode": {
    "name": "ipython",
    "version": 3
   },
   "file_extension": ".py",
   "mimetype": "text/x-python",
   "name": "python",
   "nbconvert_exporter": "python",
   "pygments_lexer": "ipython3",
   "version": "3.8.8"
  }
 },
 "nbformat": 4,
 "nbformat_minor": 5
}
