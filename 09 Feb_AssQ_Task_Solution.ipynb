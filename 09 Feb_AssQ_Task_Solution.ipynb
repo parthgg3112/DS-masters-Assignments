{
 "cells": [
  {
   "cell_type": "markdown",
   "id": "52962611",
   "metadata": {},
   "source": [
    "## Question 1"
   ]
  },
  {
   "cell_type": "markdown",
   "id": "cc704dbe",
   "metadata": {},
   "source": [
    "Q1) Create a vehicle class with an init method having instance variables as name_of_vehicle, max_speed\n",
    "    and average_of_vehicle. "
   ]
  },
  {
   "cell_type": "code",
   "execution_count": 11,
   "id": "4af20220",
   "metadata": {},
   "outputs": [],
   "source": [
    "class vehicle:\n",
    "    def __init__(self,name_of_vehicle,max_speed,average_of_vehicle):\n",
    "        self.name_of_vehicle = name_of_vehicle\n",
    "        self.max_speed = max_speed\n",
    "        self.average_of_vehicle = average_of_vehicle\n",
    "        \n",
    "    def veh_details():\n",
    "        print(self.name_of_vehicle,self.max_speed,self.average_of_vehicle)\n",
    "    "
   ]
  },
  {
   "cell_type": "code",
   "execution_count": 17,
   "id": "6274b948",
   "metadata": {},
   "outputs": [
    {
     "data": {
      "text/plain": [
       "'elantra'"
      ]
     },
     "execution_count": 17,
     "metadata": {},
     "output_type": "execute_result"
    }
   ],
   "source": [
    "v1 = vehicle(\"elantra\",220,45)\n",
    "name = v1.name_of_vehicle\n",
    "name"
   ]
  },
  {
   "cell_type": "markdown",
   "id": "006235e7",
   "metadata": {},
   "source": [
    "## Question 2"
   ]
  },
  {
   "cell_type": "markdown",
   "id": "b7989447",
   "metadata": {},
   "source": [
    "Q2.  Create a child class car from the vehicle class created in Que 1, which will inherit the vehicle class.\n",
    "Create a method named seating_capacity which takes capacity as an argument and returns the name of\n",
    "the vehicle and its seating capacity."
   ]
  },
  {
   "cell_type": "code",
   "execution_count": 22,
   "id": "425710d6",
   "metadata": {},
   "outputs": [],
   "source": [
    "class car(vehicle):\n",
    "    def seating_capacity(self,capacity):\n",
    "        self.capacity = capacity\n",
    "        return self.name_of_vehicle , self.capacity"
   ]
  },
  {
   "cell_type": "code",
   "execution_count": 23,
   "id": "517a2b19",
   "metadata": {},
   "outputs": [
    {
     "data": {
      "text/plain": [
       "('accord', 20)"
      ]
     },
     "execution_count": 23,
     "metadata": {},
     "output_type": "execute_result"
    }
   ],
   "source": [
    "c1 = car(\"accord\",\"260\",\"50\")\n",
    "c1.seating_capacity(20)"
   ]
  },
  {
   "cell_type": "markdown",
   "id": "1d1483de",
   "metadata": {},
   "source": [
    "## Question 3"
   ]
  },
  {
   "cell_type": "markdown",
   "id": "bfa495a1",
   "metadata": {},
   "source": [
    "Q3. What is multiple inheritance? Write a python code to demonstrate multiple inheritance"
   ]
  },
  {
   "cell_type": "markdown",
   "id": "cbd745ac",
   "metadata": {},
   "source": [
    "Multiple inheritance is when a class inherits the properties of two or more classes. Typical example is a child class\n",
    "inherits the properties of both mother and father.\n",
    "\n",
    "A B\n",
    "\n",
    "\\ /\n",
    "\n",
    "C"
   ]
  },
  {
   "cell_type": "code",
   "execution_count": 27,
   "id": "858a40b3",
   "metadata": {},
   "outputs": [],
   "source": [
    "class A:\n",
    "    def A_name(self,mother):\n",
    "        self.mother = mother\n",
    "        print(self.mother)\n",
    "\n",
    "class B:\n",
    "    def B_name(self,father):\n",
    "        self.father = father\n",
    "        print(self.father)\n",
    "        \n",
    "class C(A,B):\n",
    "    def C_name(self,child):\n",
    "        self.child = child\n",
    "        print(self.child)"
   ]
  },
  {
   "cell_type": "code",
   "execution_count": 32,
   "id": "07cd19c3",
   "metadata": {},
   "outputs": [
    {
     "name": "stdout",
     "output_type": "stream",
     "text": [
      "Kelly\n",
      "Harry\n",
      "Rony\n"
     ]
    }
   ],
   "source": [
    "c1 = C()\n",
    "c1.A_name(\"Kelly\")\n",
    "c1.B_name(\"Harry\")\n",
    "c1.C_name(\"Rony\")"
   ]
  },
  {
   "cell_type": "markdown",
   "id": "967545a2",
   "metadata": {},
   "source": [
    "## Question 4"
   ]
  },
  {
   "cell_type": "markdown",
   "id": "17c9a8d6",
   "metadata": {},
   "source": [
    "Q4. What are getter and setter in python? Create a class and create a getter and a setter method in this\n",
    "class."
   ]
  },
  {
   "cell_type": "markdown",
   "id": "2db5bdd7",
   "metadata": {},
   "source": [
    "Getter - Used to get a value from a private,protected variables, basically accessing it and getting the value.\n",
    "Setter - Used to change the value of a private,protected variables , basically accessing it and changing/setting the value. "
   ]
  },
  {
   "cell_type": "code",
   "execution_count": 46,
   "id": "2f3f01a1",
   "metadata": {},
   "outputs": [],
   "source": [
    "class A:\n",
    "    def __init__(self,name,subject=\"Codings\"):\n",
    "        self.name = name\n",
    "        self.__subject = subject\n",
    "        \n",
    "    @property\n",
    "    def subject_access(self):\n",
    "        return self.__subject\n",
    "    \n",
    "    @subject_access.setter\n",
    "    def subject_set(self,sub_name):\n",
    "        self.__subject = sub_name\n",
    "        \n",
    "    @subject_access.deleter\n",
    "    def subject_del(self):\n",
    "        del self.__subject\n",
    "    "
   ]
  },
  {
   "cell_type": "code",
   "execution_count": 52,
   "id": "916d446e",
   "metadata": {},
   "outputs": [],
   "source": [
    "obj = A(\"Kane\")\n",
    "obj.subject_set = \"Python\""
   ]
  },
  {
   "cell_type": "code",
   "execution_count": 58,
   "id": "3aeaee09",
   "metadata": {},
   "outputs": [
    {
     "ename": "AttributeError",
     "evalue": "'A' object has no attribute '_A__subject'",
     "output_type": "error",
     "traceback": [
      "\u001b[1;31m---------------------------------------------------------------------------\u001b[0m",
      "\u001b[1;31mAttributeError\u001b[0m                            Traceback (most recent call last)",
      "\u001b[1;32m<ipython-input-58-1cc032caf8ca>\u001b[0m in \u001b[0;36m<module>\u001b[1;34m\u001b[0m\n\u001b[1;32m----> 1\u001b[1;33m \u001b[0mobj\u001b[0m\u001b[1;33m.\u001b[0m\u001b[0msubject_access\u001b[0m\u001b[1;33m\u001b[0m\u001b[1;33m\u001b[0m\u001b[0m\n\u001b[0m",
      "\u001b[1;32m<ipython-input-46-bcee8b7c9820>\u001b[0m in \u001b[0;36msubject_access\u001b[1;34m(self)\u001b[0m\n\u001b[0;32m      6\u001b[0m     \u001b[1;33m@\u001b[0m\u001b[0mproperty\u001b[0m\u001b[1;33m\u001b[0m\u001b[1;33m\u001b[0m\u001b[0m\n\u001b[0;32m      7\u001b[0m     \u001b[1;32mdef\u001b[0m \u001b[0msubject_access\u001b[0m\u001b[1;33m(\u001b[0m\u001b[0mself\u001b[0m\u001b[1;33m)\u001b[0m\u001b[1;33m:\u001b[0m\u001b[1;33m\u001b[0m\u001b[1;33m\u001b[0m\u001b[0m\n\u001b[1;32m----> 8\u001b[1;33m         \u001b[1;32mreturn\u001b[0m \u001b[0mself\u001b[0m\u001b[1;33m.\u001b[0m\u001b[0m__subject\u001b[0m\u001b[1;33m\u001b[0m\u001b[1;33m\u001b[0m\u001b[0m\n\u001b[0m\u001b[0;32m      9\u001b[0m \u001b[1;33m\u001b[0m\u001b[0m\n\u001b[0;32m     10\u001b[0m     \u001b[1;33m@\u001b[0m\u001b[0msubject_access\u001b[0m\u001b[1;33m.\u001b[0m\u001b[0msetter\u001b[0m\u001b[1;33m\u001b[0m\u001b[1;33m\u001b[0m\u001b[0m\n",
      "\u001b[1;31mAttributeError\u001b[0m: 'A' object has no attribute '_A__subject'"
     ]
    }
   ],
   "source": [
    "obj.subject_access"
   ]
  },
  {
   "cell_type": "code",
   "execution_count": 54,
   "id": "fc6eb6ee",
   "metadata": {},
   "outputs": [
    {
     "data": {
      "text/plain": [
       "'Python'"
      ]
     },
     "execution_count": 54,
     "metadata": {},
     "output_type": "execute_result"
    }
   ],
   "source": [
    "obj.subject_del"
   ]
  },
  {
   "cell_type": "code",
   "execution_count": 57,
   "id": "3d7c3853",
   "metadata": {},
   "outputs": [],
   "source": [
    "del obj.subject_del"
   ]
  },
  {
   "cell_type": "markdown",
   "id": "5ff41018",
   "metadata": {},
   "source": [
    "## Question 5"
   ]
  },
  {
   "cell_type": "markdown",
   "id": "9561978e",
   "metadata": {},
   "source": [
    "Q5.What is method overriding in python? Write a python code to demonstrate method overriding"
   ]
  },
  {
   "cell_type": "markdown",
   "id": "b42b6c02",
   "metadata": {},
   "source": [
    "Method overriding is when a child class has a same function as the parent class and it overrides the output of the parent class"
   ]
  },
  {
   "cell_type": "code",
   "execution_count": 66,
   "id": "00e73b20",
   "metadata": {},
   "outputs": [],
   "source": [
    "class A_parent:\n",
    "    def show(self):\n",
    "        print(\"This is a parent class\")\n",
    "\n",
    "class A_child(A_parent):\n",
    "    def show(self):\n",
    "        super().show()\n",
    "        print(\"This is a child class\")"
   ]
  },
  {
   "cell_type": "code",
   "execution_count": 67,
   "id": "e6a974fc",
   "metadata": {},
   "outputs": [
    {
     "name": "stdout",
     "output_type": "stream",
     "text": [
      "This is a parent class\n",
      "This is a child class\n"
     ]
    }
   ],
   "source": [
    "obj = A_child()\n",
    "obj.show()"
   ]
  },
  {
   "cell_type": "code",
   "execution_count": null,
   "id": "555e32cb",
   "metadata": {},
   "outputs": [],
   "source": []
  }
 ],
 "metadata": {
  "kernelspec": {
   "display_name": "Python 3",
   "language": "python",
   "name": "python3"
  },
  "language_info": {
   "codemirror_mode": {
    "name": "ipython",
    "version": 3
   },
   "file_extension": ".py",
   "mimetype": "text/x-python",
   "name": "python",
   "nbconvert_exporter": "python",
   "pygments_lexer": "ipython3",
   "version": "3.8.8"
  }
 },
 "nbformat": 4,
 "nbformat_minor": 5
}
