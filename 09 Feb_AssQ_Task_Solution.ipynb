{
 "cells": [
  {
   "cell_type": "markdown",
   "id": "b181c9ae",
   "metadata": {},
   "source": [
    "## Question 1"
   ]
  },
  {
   "cell_type": "markdown",
   "id": "20d80119",
   "metadata": {},
   "source": [
    "Q1) Create a vehicle class with an init method having instance variables as name_of_vehicle, max_speed\n",
    "    and average_of_vehicle. "
   ]
  },
  {
   "cell_type": "code",
   "execution_count": 11,
   "id": "02e3dc46",
   "metadata": {},
   "outputs": [],
   "source": [
    "class vehicle:\n",
    "    def __init__(self,name_of_vehicle,max_speed,average_of_vehicle):\n",
    "        self.name_of_vehicle = name_of_vehicle\n",
    "        self.max_speed = max_speed\n",
    "        self.average_of_vehicle = average_of_vehicle\n",
    "        \n",
    "    def veh_details():\n",
    "        print(self.name_of_vehicle,self.max_speed,self.average_of_vehicle)\n",
    "    "
   ]
  },
  {
   "cell_type": "code",
   "execution_count": 17,
   "id": "d9b0b75f",
   "metadata": {},
   "outputs": [
    {
     "data": {
      "text/plain": [
       "'elantra'"
      ]
     },
     "execution_count": 17,
     "metadata": {},
     "output_type": "execute_result"
    }
   ],
   "source": [
    "v1 = vehicle(\"elantra\",220,45)\n",
    "name = v1.name_of_vehicle\n",
    "name"
   ]
  },
  {
   "cell_type": "markdown",
   "id": "15836f42",
   "metadata": {},
   "source": [
    "## Question 2"
   ]
  },
  {
   "cell_type": "markdown",
   "id": "82a4a6e9",
   "metadata": {},
   "source": [
    "Q2.  Create a child class car from the vehicle class created in Que 1, which will inherit the vehicle class.\n",
    "Create a method named seating_capacity which takes capacity as an argument and returns the name of\n",
    "the vehicle and its seating capacity."
   ]
  },
  {
   "cell_type": "code",
   "execution_count": 22,
   "id": "373089c0",
   "metadata": {},
   "outputs": [],
   "source": [
    "class car(vehicle):\n",
    "    def seating_capacity(self,capacity):\n",
    "        self.capacity = capacity\n",
    "        return self.name_of_vehicle , self.capacity"
   ]
  },
  {
   "cell_type": "code",
   "execution_count": 23,
   "id": "9c325f41",
   "metadata": {},
   "outputs": [
    {
     "data": {
      "text/plain": [
       "('accord', 20)"
      ]
     },
     "execution_count": 23,
     "metadata": {},
     "output_type": "execute_result"
    }
   ],
   "source": [
    "c1 = car(\"accord\",\"260\",\"50\")\n",
    "c1.seating_capacity(20)"
   ]
  },
  {
   "cell_type": "markdown",
   "id": "25a92c15",
   "metadata": {},
   "source": [
    "## Question 3"
   ]
  },
  {
   "cell_type": "markdown",
   "id": "d4a599c3",
   "metadata": {},
   "source": [
    "Q3. What is multiple inheritance? Write a python code to demonstrate multiple inheritance"
   ]
  },
  {
   "cell_type": "markdown",
   "id": "1964e73f",
   "metadata": {},
   "source": [
    "Multiple inheritance is when a class inherits the properties of two or more classes. Typical example is a child class\n",
    "inherits the properties of both mother and father.\n",
    "\n",
    "A B\n",
    "\n",
    "\\ /\n",
    "\n",
    "C"
   ]
  },
  {
   "cell_type": "code",
   "execution_count": 27,
   "id": "762ad626",
   "metadata": {},
   "outputs": [],
   "source": [
    "class A:\n",
    "    def A_name(self,mother):\n",
    "        self.mother = mother\n",
    "        print(self.mother)\n",
    "\n",
    "class B:\n",
    "    def B_name(self,father):\n",
    "        self.father = father\n",
    "        print(self.father)\n",
    "        \n",
    "class C(A,B):\n",
    "    def C_name(self,child):\n",
    "        self.child = child\n",
    "        print(self.child)"
   ]
  },
  {
   "cell_type": "code",
   "execution_count": 32,
   "id": "c1792410",
   "metadata": {},
   "outputs": [
    {
     "name": "stdout",
     "output_type": "stream",
     "text": [
      "Kelly\n",
      "Harry\n",
      "Rony\n"
     ]
    }
   ],
   "source": [
    "c1 = C()\n",
    "c1.A_name(\"Kelly\")\n",
    "c1.B_name(\"Harry\")\n",
    "c1.C_name(\"Rony\")"
   ]
  },
  {
   "cell_type": "code",
   "execution_count": null,
   "id": "17008837",
   "metadata": {},
   "outputs": [],
   "source": []
  }
 ],
 "metadata": {
  "kernelspec": {
   "display_name": "Python 3",
   "language": "python",
   "name": "python3"
  },
  "language_info": {
   "codemirror_mode": {
    "name": "ipython",
    "version": 3
   },
   "file_extension": ".py",
   "mimetype": "text/x-python",
   "name": "python",
   "nbconvert_exporter": "python",
   "pygments_lexer": "ipython3",
   "version": "3.8.8"
  }
 },
 "nbformat": 4,
 "nbformat_minor": 5
}
